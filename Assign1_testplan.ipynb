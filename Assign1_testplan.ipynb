{
 "cells": [
  {
   "cell_type": "code",
   "execution_count": 1,
   "id": "47a11a98-b751-4cd6-8855-ffe2985a496f",
   "metadata": {},
   "outputs": [],
   "source": [
    "import itertools\n",
    "from collections import OrderedDict\n",
    "from allpairspy import AllPairs"
   ]
  },
  {
   "cell_type": "code",
   "execution_count": 2,
   "id": "fec0ca34-ab40-406c-a76c-3067063dce51",
   "metadata": {},
   "outputs": [],
   "source": [
    "class RFTS:\n",
    "    def __init__(self, orderdict, orderdictALLPair, rules=None, rule2pair=None, default=None):\n",
    "        self._allAttr = list(orderdict)\n",
    "        self._param =[]\n",
    "        self._param_space =[]\n",
    "        for attr in self._allAttr:\n",
    "            self._param.append(orderdict[attr])\n",
    "        for attr in self._allAttr:\n",
    "            self._param_space.append(orderdictALLPair[attr])            \n",
    "        self._rules = rules\n",
    "        self._default = default\n",
    "        self._fifo=[]\n",
    "        self._rule_2pair = rule2pair\n",
    "    def printFifo(self):\n",
    "        for i in self._fifo:\n",
    "            print(i)\n",
    "    def printFifoLen(self):\n",
    "        print('FIFO Len: ', len(self._fifo))            \n",
    "    def all_combination(self, fix_value=None, save=False):\n",
    "        if fix_value !=None:\n",
    "            new_param = self._fixParam(fix_value)\n",
    "        else:\n",
    "            new_param = self._param[:]\n",
    "        listComb = list(itertools.product(*new_param))\n",
    "        listComb = self._listToDict(listComb)\n",
    "        if self._rules!=None:\n",
    "            listComb = self._rules(listComb)\n",
    "        print(\"All Comb Cases: \", len(listComb))\n",
    "        if save == True:\n",
    "            for tup in listComb:\n",
    "                self._fifo.append(tup)\n",
    "        return listComb\n",
    "    def default_value_strategy(self, fix_value=None, save=False):\n",
    "        if self._default == None:\n",
    "            print(\"No Default Value\")\n",
    "            return\n",
    "        _default = dict.copy(self._default)\n",
    "        if fix_value !=None:\n",
    "            new_param = self._fixParam(fix_value)\n",
    "            for fix_attr, fix_choice in fix_value.items():\n",
    "                if _default[fix_attr] not in fix_choice:\n",
    "                    _default[fix_attr] = fix_choice[0]\n",
    "        else:\n",
    "            new_param = self._param[:]\n",
    "        arr_dict=[]\n",
    "        arr_dict.append(_default)\n",
    "        for attr, param in zip(self._allAttr, new_param):\n",
    "            for value in param:\n",
    "                new_dict = dict.copy(_default) ##Copy Values\n",
    "                if self._default[attr] != value:\n",
    "                    new_dict[attr] = value\n",
    "                    #print(new_dict)\n",
    "                    arr_dict.append(new_dict)\n",
    "        listComb = arr_dict\n",
    "        if self._rules!=None:\n",
    "            listComb = self._rules(listComb)   \n",
    "        print(\"Default Cases: \", len(listComb))\n",
    "        if save == True:\n",
    "            for tup in listComb:\n",
    "                self._fifo.append(tup)        \n",
    "        return listComb\n",
    "    def pairwise_comb(self, fix_value=None, save=False, n=2):\n",
    "        if fix_value !=None:\n",
    "            new_param = self._fixParam_space(fix_value)\n",
    "        else:\n",
    "            new_param = self._param_space[:]\n",
    "        if self._rule_2pair != None:\n",
    "            arr_dict=[pairs for _, pairs in enumerate(AllPairs(new_param, n=n, filter_func=self._rule_2pair))]\n",
    "        else:\n",
    "            arr_dict=[pairs for _, pairs in enumerate(AllPairs(new_param, n=n))]\n",
    "        listComb = self._listToDict(arr_dict)\n",
    "        print(\"PairWise Cases: \", len(listComb))\n",
    "        if save == True:\n",
    "            for tup in listComb:\n",
    "                self._fifo.append(tup)        \n",
    "        return listComb\n",
    "    def addDefault(self, save=False, fix_value=None):\n",
    "        _default = dict.copy(self._default)\n",
    "        if fix_value !=None:\n",
    "            for fix_attr, fix_choice in fix_value.items():\n",
    "                if _default[fix_attr] not in fix_choice:\n",
    "                    _default[fix_attr] = fix_choice[0]\n",
    "        if save == True:\n",
    "            self._fifo.append(_default)           \n",
    "        return _default\n",
    "    def printFifoResult(self):\n",
    "        print(\"FIFO Size: \", len(self._fifo))\n",
    "    def printFifoToFile(self):\n",
    "        f = open(\"testData.txt\", \"w\")\n",
    "        for row in self._fifo:\n",
    "            f.write(\",\")#price \n",
    "            f.write(\",\")#Mileage\n",
    "            for cell in row.items():\n",
    "                f.write(cell[1])\n",
    "                f.write(\",\")\n",
    "            f.write(\",\") #Valid\n",
    "            f.write(\"\\\"\\\",\") #Exp price\n",
    "            f.write(\"\\\"\\\",\") #Exp Period\n",
    "            f.write(\"\\\"\\\"\") #Exp Mileage\n",
    "            f.write(\"\\n\")\n",
    "        f.close()            \n",
    "    def clearFIFO(self):\n",
    "        self._fifo=[]\n",
    "    def ruleSetFIFO(self):\n",
    "        self._fifo = self._rules(self._fifo)\n",
    "        return self._fifo\n",
    "    def _listToDict(self, listComb):\n",
    "        arr_dict=[]\n",
    "        for i in range(len(listComb)):\n",
    "            dict={}\n",
    "            for attr, param in zip(self._allAttr, listComb[i]):\n",
    "                dict[attr] = param\n",
    "            arr_dict.append(dict)\n",
    "        return arr_dict\n",
    "    def _fixParam(self, fix_value):\n",
    "        new_param = self._param[:]\n",
    "        for i in fix_value.items():\n",
    "            if i[0] in self._allAttr:\n",
    "                index = self._allAttr.index(i[0])\n",
    "                new_param[index] = i[1]\n",
    "        return new_param\n",
    "    def _fixParam_space(self, fix_value):\n",
    "        new_param = self._param_space[:]\n",
    "        for i in fix_value.items():\n",
    "            if i[0] in self._allAttr:\n",
    "                index = self._allAttr.index(i[0])\n",
    "                new_param[index] = i[1]\n",
    "        return new_param    "
   ]
  },
  {
   "cell_type": "code",
   "execution_count": 3,
   "id": "3c98d93a-4a0d-4bf8-91cb-6df1a46e5574",
   "metadata": {},
   "outputs": [],
   "source": [
    "def get_unique(arr_dict):\n",
    "    if(len(arr_dict)<=1):\n",
    "        return arr_dict\n",
    "    seen=[]\n",
    "    for _dict in arr_dict:\n",
    "        if _dict not in seen:\n",
    "            seen.append(_dict)\n",
    "    return seen"
   ]
  },
  {
   "cell_type": "code",
   "execution_count": 4,
   "id": "fb1700e7-968f-4073-80f2-a585164a3b75",
   "metadata": {},
   "outputs": [],
   "source": [
    "def rule(arr_dict):\n",
    "    new_arr_dict=[]\n",
    "    new_dict={}\n",
    "    for _dict in arr_dict:\n",
    "        new_dict = _dict\n",
    "        #case NonDom\n",
    "        if _dict['rangeType'] != \"N\":\n",
    "            if _dict['seatType'] == \"F\":\n",
    "                continue\n",
    "            new_dict['lengthType'] = \"_\"\n",
    "            new_dict['flightType'] = \"_\"\n",
    "        #case econ\n",
    "        if _dict['seatType'] != \"E\":\n",
    "            new_dict['upgradeType'] = \"_\" \n",
    "        #case vip\n",
    "        if _dict['passengerType'] != \"V\":\n",
    "            new_dict['VIPType'] = \"_\"\n",
    "        new_arr_dict.append(new_dict)\n",
    "    new_arr_dict = get_unique(new_arr_dict)\n",
    "    return new_arr_dict\n",
    "def ruleForAllPair(row):\n",
    "    n=len(row)\n",
    "    if n>5:\n",
    "        # case nonDom\n",
    "        if  row[1]==\"D\" and (row[0] == 'F' or row[4] == \"S\" or row[4] == \"L\" or row[5] == \"D\" or row[5] == \"I\"):\n",
    "            return False\n",
    "        if  row[1]==\"N\" and (row[4] == \"_\" or row[5] == '_'):\n",
    "            return False        \n",
    "    if n>2:\n",
    "        #case econ\n",
    "        if row[0] != \"E\" and (row[2] == \"U\" or row[2] == \"N\"):\n",
    "            return False\n",
    "        if row[0] == \"E\" and (row[2] == \"_\"):\n",
    "            return False        \n",
    "    if n>7:\n",
    "        #case vip\n",
    "        if row[6] == \"N\" and (row[7] == \"D\" or row[7] == \"G\"):\n",
    "            return False\n",
    "        if row[6] == \"V\" and (row[7] == \"_\"):\n",
    "            return False        \n",
    "    return True"
   ]
  },
  {
   "cell_type": "code",
   "execution_count": 5,
   "id": "97f05e4b-79a1-4060-93ff-92e6e662f868",
   "metadata": {},
   "outputs": [],
   "source": [
    "AIRTICKET = OrderedDict({\n",
    "    \"seatType\": [\"F\", \"B\", \"E\"],\n",
    "    \"rangeType\": [\"D\", \"N\"],\n",
    "    \"upgradeType\": [\"U\", \"N\"],\n",
    "    \"tripType\":[\"O\", \"R\"],\n",
    "    \"lengthType\":[\"S\", \"L\"],\n",
    "    \"flightType\":[\"D\", \"I\"],\n",
    "    \"passengerType\":[\"V\", \"N\"],\n",
    "    \"VIPType\":[\"D\", \"G\"],\n",
    "    \"seasonType\":[\"P\", \"N\", \"L\"],\n",
    "    \"discountType\":[\"N\", \"D\", \"J\", \"S\"]\n",
    "})\n",
    "AIRTICKET_forALLPair = OrderedDict({\n",
    "    \"seatType\": [\"F\", \"B\", \"E\"],\n",
    "    \"rangeType\": [\"D\", \"N\"],\n",
    "    \"upgradeType\": [\"U\", \"N\", '_'],\n",
    "    \"tripType\":[\"O\", \"R\"],\n",
    "    \"lengthType\":[\"S\", \"L\", '_'],\n",
    "    \"flightType\":[\"D\", \"I\", '_'],\n",
    "    \"passengerType\":[\"V\", \"N\"],\n",
    "    \"VIPType\":[\"D\", \"G\", '_'],\n",
    "    \"seasonType\":[\"P\", \"N\", \"L\"],\n",
    "    \"discountType\":[\"N\", \"D\", \"J\", \"S\"]\n",
    "})\n",
    "default={\n",
    "    \"seatType\": \"E\",\n",
    "    \"rangeType\": \"N\",\n",
    "    \"upgradeType\": \"N\",\n",
    "    \"tripType\": \"R\",\n",
    "    \"lengthType\": \"L\",\n",
    "    \"flightType\": \"D\",\n",
    "    \"passengerType\": \"N\",\n",
    "    \"VIPType\": \"G\",\n",
    "    \"seasonType\": \"N\",\n",
    "    \"discountType\": \"D\"\n",
    "}"
   ]
  },
  {
   "cell_type": "code",
   "execution_count": 6,
   "id": "1472a4a8-1497-4eb8-8240-610185faa62f",
   "metadata": {},
   "outputs": [],
   "source": [
    "rfts=RFTS(AIRTICKET, AIRTICKET_forALLPair, rules=rule, rule2pair=ruleForAllPair, default=default)"
   ]
  },
  {
   "cell_type": "markdown",
   "id": "2970925f-b8a8-4817-910c-219919c8a930",
   "metadata": {},
   "source": [
    "First, Check the correctness of program as Safe keeper"
   ]
  },
  {
   "cell_type": "code",
   "execution_count": 7,
   "id": "810ae401-a75d-48f4-a0f6-9d8fbb369d29",
   "metadata": {},
   "outputs": [
    {
     "name": "stdout",
     "output_type": "stream",
     "text": [
      "legitimate Cases:\n",
      "All Comb Cases:  1368\n",
      "{'seatType': ['E'], 'passengerType': ['V'], 'rangeType': ['N']}\n",
      "All Comb Cases:  384\n",
      "{'seatType': ['E'], 'passengerType': ['V'], 'rangeType': ['D']}\n",
      "All Comb Cases:  96\n",
      "{'seatType': ['E'], 'passengerType': ['N'], 'rangeType': ['N']}\n",
      "All Comb Cases:  192\n",
      "{'seatType': ['E'], 'passengerType': ['N'], 'rangeType': ['D']}\n",
      "All Comb Cases:  48\n",
      "{'seatType': ['F', 'B'], 'passengerType': ['V'], 'rangeType': ['N']}\n",
      "All Comb Cases:  384\n",
      "{'seatType': ['F', 'B'], 'passengerType': ['V'], 'rangeType': ['D']}\n",
      "All Comb Cases:  48\n",
      "{'seatType': ['F', 'B'], 'passengerType': ['N'], 'rangeType': ['N']}\n",
      "All Comb Cases:  192\n",
      "{'seatType': ['F', 'B'], 'passengerType': ['N'], 'rangeType': ['D']}\n",
      "All Comb Cases:  24\n"
     ]
    }
   ],
   "source": [
    "print(\"legitimate Cases:\")\n",
    "rfts.all_combination()\n",
    "fix_value = {\"seatType\": [\"E\"], \"passengerType\": [\"V\"], \"rangeType\": [\"N\"]}\n",
    "print(fix_value)\n",
    "rfts.all_combination(fix_value)\n",
    "fix_value = {\"seatType\": [\"E\"], \"passengerType\": [\"V\"], \"rangeType\": [\"D\"]}\n",
    "print(fix_value)\n",
    "rfts.all_combination(fix_value)\n",
    "fix_value = {\"seatType\": [\"E\"], \"passengerType\": [\"N\"], \"rangeType\": [\"N\"]}\n",
    "print(fix_value)\n",
    "rfts.all_combination(fix_value)\n",
    "fix_value = {\"seatType\": [\"E\"], \"passengerType\": [\"N\"], \"rangeType\": [\"D\"]}\n",
    "print(fix_value)\n",
    "rfts.all_combination(fix_value)\n",
    "fix_value = {\"seatType\": [\"F\", \"B\"], \"passengerType\": [\"V\"], \"rangeType\": [\"N\"]}\n",
    "print(fix_value)\n",
    "rfts.all_combination(fix_value)\n",
    "fix_value = {\"seatType\": [\"F\", \"B\"], \"passengerType\": [\"V\"], \"rangeType\": [\"D\"]}\n",
    "print(fix_value)\n",
    "rfts.all_combination(fix_value)\n",
    "fix_value = {\"seatType\": [\"F\", \"B\"], \"passengerType\": [\"N\"], \"rangeType\": [\"N\"]}\n",
    "print(fix_value)\n",
    "rfts.all_combination(fix_value)\n",
    "fix_value = {\"seatType\": [\"F\", \"B\"], \"passengerType\": [\"N\"], \"rangeType\": [\"D\"]}\n",
    "print(fix_value)\n",
    "_=rfts.all_combination(fix_value)"
   ]
  },
  {
   "cell_type": "markdown",
   "id": "c8b33c81-31e1-4313-8f7e-c7fd564aa780",
   "metadata": {},
   "source": [
    "Calculate the Invalid cases only:\n",
    "1. Staff Discount in Peak Season for Econ without Upgrade\n",
    "2. Staff Discount for Econ with Upgrade\n",
    "3. First or Business has discount  "
   ]
  },
  {
   "cell_type": "code",
   "execution_count": 8,
   "id": "34e5babc-971d-4c82-9295-14a3337d0c4a",
   "metadata": {},
   "outputs": [
    {
     "name": "stdout",
     "output_type": "stream",
     "text": [
      "Case 1:  {'seatType': ['E'], 'upgradeType': ['N'], 'seasonType': ['P'], 'discountType': ['S', 'J']}\n",
      "All Comb Cases:  60\n",
      "Case 2:  {'seatType': ['E'], 'upgradeType': ['U'], 'discountType': ['S', 'J']}\n",
      "All Comb Cases:  180\n",
      "Case 3:  {'seatType': ['F', 'B'], 'discountType': ['S', 'J', 'D']}\n",
      "All Comb Cases:  486\n"
     ]
    }
   ],
   "source": [
    "fix_value = {\"seatType\": [\"E\"], \"upgradeType\": [\"N\"], \"seasonType\": [\"P\"], \"discountType\": [\"S\", \"J\"]}\n",
    "print('Case 1: ', fix_value)\n",
    "rfts.all_combination(fix_value)\n",
    "fix_value = {\"seatType\": [\"E\"], \"upgradeType\": [\"U\"],  \"discountType\": [\"S\", \"J\"]}\n",
    "print('Case 2: ', fix_value)\n",
    "rfts.all_combination(fix_value)\n",
    "fix_value = {\"seatType\": [\"F\", \"B\"],  \"discountType\": [\"S\", \"J\", \"D\"]}\n",
    "print('Case 3: ', fix_value)\n",
    "_=rfts.all_combination(fix_value)"
   ]
  },
  {
   "cell_type": "markdown",
   "id": "59fec104-b8e4-401c-9b01-f00ccb9d08c5",
   "metadata": {},
   "source": [
    "Calculate the Valid cases only:"
   ]
  },
  {
   "cell_type": "code",
   "execution_count": 9,
   "id": "555042ec-bc3f-4248-8542-b556e412becc",
   "metadata": {},
   "outputs": [
    {
     "name": "stdout",
     "output_type": "stream",
     "text": [
      "Case 1:  {'seatType': ['E'], 'upgradeType': 'N', 'seasonType': ['N', 'L']}\n",
      "All Comb Cases:  240\n",
      "Case 2:  {'seatType': ['E'], 'upgradeType': 'N', 'seasonType': ['P'], 'discountType': ['N', 'D']}\n",
      "All Comb Cases:  60\n",
      "Case 3:  {'seatType': ['E'], 'upgradeType': 'U', 'discountType': ['N', 'D']}\n",
      "All Comb Cases:  180\n",
      "Case 4:  {'seatType': ['F', 'B'], 'discountType': ['N']}\n",
      "All Comb Cases:  162\n"
     ]
    }
   ],
   "source": [
    "fix_value = {\"seatType\": [\"E\"], \"upgradeType\": \"N\", \"seasonType\":[\"N\", \"L\"]}\n",
    "print('Case 1: ', fix_value)\n",
    "rfts.all_combination(fix_value)\n",
    "fix_value = {\"seatType\": [\"E\"], \"upgradeType\": \"N\", \"seasonType\":[\"P\"], \"discountType\": [\"N\", \"D\"]}\n",
    "print('Case 2: ', fix_value)\n",
    "rfts.all_combination(fix_value)\n",
    "fix_value = {\"seatType\": [\"E\"], \"upgradeType\": \"U\", \"discountType\": [\"N\", \"D\"]}\n",
    "print('Case 3: ', fix_value)\n",
    "rfts.all_combination(fix_value)\n",
    "fix_value = {\"seatType\": [\"F\", \"B\"], \"discountType\": [\"N\"]}\n",
    "print('Case 4: ', fix_value)\n",
    "_=rfts.all_combination(fix_value)"
   ]
  },
  {
   "cell_type": "markdown",
   "id": "a643bb0a-427f-41c4-8088-e2f2c3c59ff7",
   "metadata": {},
   "source": [
    "Total cases are 1368 (Invalid + valid) as expected"
   ]
  },
  {
   "cell_type": "markdown",
   "id": "f83ec504-0a9c-4190-9aad-6f381b10b13e",
   "metadata": {},
   "source": [
    "For Economy Class"
   ]
  },
  {
   "cell_type": "code",
   "execution_count": 10,
   "id": "b55fa92c-6f73-4f45-9d25-fd10b6ceaf41",
   "metadata": {},
   "outputs": [
    {
     "name": "stdout",
     "output_type": "stream",
     "text": [
      "Step E1:  {'seatType': 'E', 'rangeType': 'N', 'upgradeType': 'N', 'tripType': 'R', 'lengthType': 'L', 'passengerType': 'N', 'discountType': ['N', 'D']}\n",
      "All Comb Cases:  12\n",
      "Step E2:  {'seatType': 'E', 'rangeType': 'N', 'upgradeType': 'N', 'seasonType': ['N', 'L'], 'passengerType': 'N'}\n",
      "PairWise Cases:  10\n",
      "Step E3:  {'seatType': 'E', 'rangeType': 'N', 'upgradeType': 'N', 'tripType': 'R', 'lengthType': 'L', 'passengerType': 'V', 'seasonType': ['N'], 'discountType': ['N']}\n",
      "Default Cases:  3\n",
      "Step E4:  {'seatType': 'E', 'passengerType': 'N', 'discountType': ['N', 'D']}\n",
      "PairWise Cases:  7\n",
      "FIFO Len:  32\n",
      "FIFO Len:  30\n"
     ]
    }
   ],
   "source": [
    "rfts.clearFIFO()\n",
    "fix_value = {\"seatType\": \"E\", \"rangeType\": \"N\", \"upgradeType\": \"N\", \"tripType\": \"R\", \"lengthType\": \"L\", \"passengerType\": \"N\", \"discountType\": [\"N\", \"D\"]}\n",
    "print('Step E1: ', fix_value)\n",
    "_=rfts.all_combination(fix_value, save=True)\n",
    "fix_value = {\"seatType\": \"E\", \"rangeType\": \"N\", \"upgradeType\": \"N\", \"seasonType\":[\"N\", \"L\"], \"passengerType\": \"N\"}# cover One-way, Indirect, Staff Discount\n",
    "print('Step E2: ', fix_value)\n",
    "_=rfts.pairwise_comb(fix_value=fix_value, save=True, n=2)\n",
    "fix_value = {\"seatType\": \"E\", \"rangeType\": \"N\", \"upgradeType\": \"N\", \"tripType\": \"R\", \"lengthType\": \"L\",  \"passengerType\": \"V\", \"seasonType\":[\"N\"], \"discountType\": [\"N\"]}# Cover Membership\n",
    "print('Step E3: ', fix_value)\n",
    "_=rfts.default_value_strategy(fix_value, save=True)\n",
    "fix_value = {\"seatType\": \"E\",  \"passengerType\": \"N\", \"discountType\": [\"N\", \"D\"]}\n",
    "print('Step E4: ', fix_value)\n",
    "_=rfts.pairwise_comb(fix_value=fix_value, save=True, n=2)\n",
    "rfts.printFifoLen()\n",
    "rfts.ruleSetFIFO()\n",
    "rfts.printFifoLen()\n",
    "rfts.printFifoToFile()"
   ]
  },
  {
   "cell_type": "markdown",
   "id": "d2c871b6-6318-48bf-96cb-8b045c9fd8ae",
   "metadata": {},
   "source": [
    "For Business Class"
   ]
  },
  {
   "cell_type": "code",
   "execution_count": 11,
   "id": "60cbd687-80d9-4ef4-8f34-2a7176559b5c",
   "metadata": {},
   "outputs": [
    {
     "name": "stdout",
     "output_type": "stream",
     "text": [
      "Step B1:  {'seatType': ['B'], 'rangeType': 'N', 'discountType': 'N'}\n",
      "PairWise Cases:  7\n",
      "Step B2:  {'seatType': ['B'], 'rangeType': 'D', 'discountType': 'N'}\n",
      "Default Cases:  5\n",
      "FIFO Len:  42\n",
      "FIFO Len:  42\n"
     ]
    }
   ],
   "source": [
    "fix_value = {\"seatType\": [\"B\"], \"rangeType\": \"N\", \"discountType\": \"N\"}\n",
    "print('Step B1: ', fix_value)\n",
    "_=rfts.pairwise_comb(fix_value=fix_value, save=True, n=2)\n",
    "fix_value = {\"seatType\": [\"B\"], \"rangeType\": \"D\", \"discountType\": \"N\"}\n",
    "print('Step B2: ', fix_value)\n",
    "_=rfts.default_value_strategy(fix_value=fix_value, save=True)\n",
    "rfts.printFifoLen()\n",
    "rfts.ruleSetFIFO()\n",
    "rfts.printFifoLen()\n",
    "rfts.printFifoToFile()"
   ]
  },
  {
   "cell_type": "markdown",
   "id": "03a7a377-8cff-4db1-a56a-3dd63a113d59",
   "metadata": {},
   "source": [
    "For First Class"
   ]
  },
  {
   "cell_type": "code",
   "execution_count": 12,
   "id": "4c28c6c8-5e89-4575-bfb5-77aedcfb39f6",
   "metadata": {},
   "outputs": [
    {
     "name": "stdout",
     "output_type": "stream",
     "text": [
      "Step F1:  {'seatType': ['F'], 'rangeType': 'N', 'tripType': 'R', 'lengthType': 'L', 'passengerType': 'V', 'discountType': ['N']}\n",
      "PairWise Cases:  7\n",
      "Step F2:  {'seatType': ['F'], 'passengerType': 'N', 'discountType': ['N']}\n",
      "Default Cases:  6\n",
      "FIFO Len:  55\n",
      "FIFO Len:  55\n"
     ]
    }
   ],
   "source": [
    "fix_value = {\"seatType\": [\"F\"], \"rangeType\": \"N\", \"tripType\": \"R\", \"lengthType\": \"L\", \"passengerType\": \"V\", \"discountType\": [\"N\"]}\n",
    "print('Step F1: ', fix_value)\n",
    "_=rfts.pairwise_comb(fix_value=fix_value, save=True, n=2)\n",
    "fix_value = {\"seatType\": [\"F\"], \"passengerType\": \"N\", \"discountType\": [\"N\"]}\n",
    "print('Step F2: ', fix_value)\n",
    "_=rfts.default_value_strategy(fix_value=fix_value, save=True)\n",
    "rfts.printFifoLen()\n",
    "rfts.ruleSetFIFO()\n",
    "rfts.printFifoLen()\n",
    "rfts.printFifoToFile()"
   ]
  },
  {
   "cell_type": "markdown",
   "id": "581b945c-c26b-4ff1-99cd-7fccd4c4f3a0",
   "metadata": {},
   "source": [
    "InValid Cases"
   ]
  },
  {
   "cell_type": "code",
   "execution_count": 13,
   "id": "e33a58c1-7ba4-4c63-b8c4-5de3216e83cd",
   "metadata": {},
   "outputs": [
    {
     "name": "stdout",
     "output_type": "stream",
     "text": [
      "{'seatType': ['B'], 'discountType': ['D']}\n",
      "PairWise Cases:  8\n",
      "{'seatType': ['F'], 'passengerType': 'V', 'discountType': ['D']}\n",
      "PairWise Cases:  7\n",
      "FIFO Len:  75\n",
      "FIFO Len:  75\n"
     ]
    }
   ],
   "source": [
    "fix_value = {\"seatType\": [\"E\"], \"upgradeType\": [\"N\"], \"seasonType\": [\"P\"], \"discountType\": [\"S\"]}\n",
    "rfts.addDefault(fix_value=fix_value, save=True)\n",
    "fix_value = {\"seatType\": [\"E\"], \"upgradeType\": [\"N\"], \"seasonType\": [\"P\"], \"discountType\": [\"J\"]}\n",
    "rfts.addDefault(fix_value=fix_value, save=True)\n",
    "fix_value = {\"seatType\": [\"E\"], \"upgradeType\": [\"U\"], \"discountType\": [\"S\"]}\n",
    "rfts.addDefault(fix_value=fix_value, save=True)\n",
    "fix_value = {\"seatType\": [\"E\"], \"upgradeType\": [\"U\"], \"discountType\": [\"J\"]}\n",
    "rfts.addDefault(fix_value=fix_value, save=True)\n",
    "fix_value = {\"seatType\": [\"B\"],  \"discountType\": [\"D\"]}\n",
    "print(fix_value)\n",
    "_=rfts.pairwise_comb(fix_value=fix_value, save=True, n=2)\n",
    "fix_value = {\"seatType\": [\"F\"], \"passengerType\": \"V\",  \"discountType\": [\"D\"]}\n",
    "print(fix_value)\n",
    "_=rfts.pairwise_comb(fix_value=fix_value, save=True, n=2)\n",
    "fix_value = {\"seatType\": [\"F\"], \"passengerType\": \"N\",  \"discountType\": [\"D\"]}\n",
    "_=rfts.addDefault(fix_value=fix_value, save=True)\n",
    "rfts.printFifoLen()\n",
    "rfts.ruleSetFIFO()\n",
    "rfts.printFifoLen()\n",
    "rfts.printFifoToFile()"
   ]
  },
  {
   "cell_type": "markdown",
   "id": "ad54bf47-eec5-4a33-b003-c8c22f4166fe",
   "metadata": {},
   "source": [
    "Additional space"
   ]
  },
  {
   "cell_type": "code",
   "execution_count": 14,
   "id": "d8f4a5d3-92b0-4d8d-be1c-5a6b89ff7764",
   "metadata": {},
   "outputs": [],
   "source": [
    "fix_value = {\"seatType\": [\"E\"], \"upgradeType\": [\"U\"], \"flightType\":[\"D\"]}\n",
    "_=rfts.addDefault(fix_value=fix_value, save=True)\n",
    "fix_value = {\"seatType\": [\"B\"], \"discountType\": [\"J\"]}\n",
    "_=rfts.addDefault(fix_value=fix_value, save=True)\n",
    "fix_value = {\"seatType\": [\"F\"], \"discountType\": [\"S\"]}\n",
    "_=rfts.addDefault(fix_value=fix_value, save=True)"
   ]
  },
  {
   "cell_type": "code",
   "execution_count": 15,
   "id": "41680622-e9b3-4e43-bd8a-4200748549f0",
   "metadata": {},
   "outputs": [
    {
     "name": "stdout",
     "output_type": "stream",
     "text": [
      "FIFO Len:  80\n",
      "{'seatType': 'E', 'rangeType': 'N', 'upgradeType': 'N', 'tripType': 'R', 'lengthType': 'L', 'flightType': 'D', 'passengerType': 'N', 'VIPType': '_', 'seasonType': 'P', 'discountType': 'N'}\n",
      "{'seatType': 'E', 'rangeType': 'N', 'upgradeType': 'N', 'tripType': 'R', 'lengthType': 'L', 'flightType': 'D', 'passengerType': 'N', 'VIPType': '_', 'seasonType': 'P', 'discountType': 'D'}\n",
      "{'seatType': 'E', 'rangeType': 'N', 'upgradeType': 'N', 'tripType': 'R', 'lengthType': 'L', 'flightType': 'D', 'passengerType': 'N', 'VIPType': '_', 'seasonType': 'N', 'discountType': 'N'}\n",
      "{'seatType': 'E', 'rangeType': 'N', 'upgradeType': 'N', 'tripType': 'R', 'lengthType': 'L', 'flightType': 'D', 'passengerType': 'N', 'VIPType': '_', 'seasonType': 'N', 'discountType': 'D'}\n",
      "{'seatType': 'E', 'rangeType': 'N', 'upgradeType': 'N', 'tripType': 'R', 'lengthType': 'L', 'flightType': 'D', 'passengerType': 'N', 'VIPType': '_', 'seasonType': 'L', 'discountType': 'N'}\n",
      "{'seatType': 'E', 'rangeType': 'N', 'upgradeType': 'N', 'tripType': 'R', 'lengthType': 'L', 'flightType': 'D', 'passengerType': 'N', 'VIPType': '_', 'seasonType': 'L', 'discountType': 'D'}\n",
      "{'seatType': 'E', 'rangeType': 'N', 'upgradeType': 'N', 'tripType': 'R', 'lengthType': 'L', 'flightType': 'I', 'passengerType': 'N', 'VIPType': '_', 'seasonType': 'P', 'discountType': 'N'}\n",
      "{'seatType': 'E', 'rangeType': 'N', 'upgradeType': 'N', 'tripType': 'R', 'lengthType': 'L', 'flightType': 'I', 'passengerType': 'N', 'VIPType': '_', 'seasonType': 'P', 'discountType': 'D'}\n",
      "{'seatType': 'E', 'rangeType': 'N', 'upgradeType': 'N', 'tripType': 'R', 'lengthType': 'L', 'flightType': 'I', 'passengerType': 'N', 'VIPType': '_', 'seasonType': 'N', 'discountType': 'N'}\n",
      "{'seatType': 'E', 'rangeType': 'N', 'upgradeType': 'N', 'tripType': 'R', 'lengthType': 'L', 'flightType': 'I', 'passengerType': 'N', 'VIPType': '_', 'seasonType': 'N', 'discountType': 'D'}\n",
      "{'seatType': 'E', 'rangeType': 'N', 'upgradeType': 'N', 'tripType': 'R', 'lengthType': 'L', 'flightType': 'I', 'passengerType': 'N', 'VIPType': '_', 'seasonType': 'L', 'discountType': 'N'}\n",
      "{'seatType': 'E', 'rangeType': 'N', 'upgradeType': 'N', 'tripType': 'R', 'lengthType': 'L', 'flightType': 'I', 'passengerType': 'N', 'VIPType': '_', 'seasonType': 'L', 'discountType': 'D'}\n",
      "{'seatType': 'E', 'rangeType': 'N', 'upgradeType': 'N', 'tripType': 'O', 'lengthType': 'S', 'flightType': 'D', 'passengerType': 'N', 'VIPType': '_', 'seasonType': 'N', 'discountType': 'N'}\n",
      "{'seatType': 'E', 'rangeType': 'N', 'upgradeType': 'N', 'tripType': 'R', 'lengthType': 'S', 'flightType': 'D', 'passengerType': 'N', 'VIPType': '_', 'seasonType': 'L', 'discountType': 'J'}\n",
      "{'seatType': 'E', 'rangeType': 'N', 'upgradeType': 'N', 'tripType': 'O', 'lengthType': 'L', 'flightType': 'I', 'passengerType': 'N', 'VIPType': '_', 'seasonType': 'N', 'discountType': 'S'}\n",
      "{'seatType': 'E', 'rangeType': 'N', 'upgradeType': 'N', 'tripType': 'O', 'lengthType': 'L', 'flightType': 'D', 'passengerType': 'N', 'VIPType': '_', 'seasonType': 'L', 'discountType': 'S'}\n",
      "{'seatType': 'E', 'rangeType': 'N', 'upgradeType': 'N', 'tripType': 'R', 'lengthType': 'S', 'flightType': 'I', 'passengerType': 'N', 'VIPType': '_', 'seasonType': 'N', 'discountType': 'S'}\n",
      "{'seatType': 'E', 'rangeType': 'N', 'upgradeType': 'N', 'tripType': 'O', 'lengthType': 'L', 'flightType': 'I', 'passengerType': 'N', 'VIPType': '_', 'seasonType': 'N', 'discountType': 'J'}\n",
      "{'seatType': 'E', 'rangeType': 'N', 'upgradeType': 'N', 'tripType': 'O', 'lengthType': 'L', 'flightType': 'I', 'passengerType': 'N', 'VIPType': '_', 'seasonType': 'N', 'discountType': 'D'}\n",
      "{'seatType': 'E', 'rangeType': 'N', 'upgradeType': 'N', 'tripType': 'O', 'lengthType': 'S', 'flightType': 'D', 'passengerType': 'N', 'VIPType': '_', 'seasonType': 'N', 'discountType': 'D'}\n",
      "{'seatType': 'E', 'rangeType': 'N', 'upgradeType': 'N', 'tripType': 'R', 'lengthType': 'L', 'flightType': 'D', 'passengerType': 'V', 'VIPType': 'G', 'seasonType': 'N', 'discountType': 'N'}\n",
      "{'seatType': 'E', 'rangeType': 'N', 'upgradeType': 'N', 'tripType': 'R', 'lengthType': 'L', 'flightType': 'I', 'passengerType': 'V', 'VIPType': 'G', 'seasonType': 'N', 'discountType': 'N'}\n",
      "{'seatType': 'E', 'rangeType': 'N', 'upgradeType': 'N', 'tripType': 'R', 'lengthType': 'L', 'flightType': 'D', 'passengerType': 'V', 'VIPType': 'D', 'seasonType': 'N', 'discountType': 'N'}\n",
      "{'seatType': 'E', 'rangeType': 'D', 'upgradeType': 'U', 'tripType': 'O', 'lengthType': '_', 'flightType': '_', 'passengerType': 'N', 'VIPType': '_', 'seasonType': 'P', 'discountType': 'N'}\n",
      "{'seatType': 'E', 'rangeType': 'N', 'upgradeType': 'N', 'tripType': 'R', 'lengthType': 'S', 'flightType': 'D', 'passengerType': 'N', 'VIPType': '_', 'seasonType': 'N', 'discountType': 'D'}\n",
      "{'seatType': 'E', 'rangeType': 'N', 'upgradeType': 'U', 'tripType': 'R', 'lengthType': 'L', 'flightType': 'I', 'passengerType': 'N', 'VIPType': '_', 'seasonType': 'L', 'discountType': 'N'}\n",
      "{'seatType': 'E', 'rangeType': 'D', 'upgradeType': 'N', 'tripType': 'O', 'lengthType': '_', 'flightType': '_', 'passengerType': 'N', 'VIPType': '_', 'seasonType': 'L', 'discountType': 'D'}\n",
      "{'seatType': 'E', 'rangeType': 'D', 'upgradeType': 'N', 'tripType': 'R', 'lengthType': '_', 'flightType': '_', 'passengerType': 'N', 'VIPType': '_', 'seasonType': 'N', 'discountType': 'N'}\n",
      "{'seatType': 'E', 'rangeType': 'D', 'upgradeType': 'U', 'tripType': 'O', 'lengthType': '_', 'flightType': '_', 'passengerType': 'N', 'VIPType': '_', 'seasonType': 'N', 'discountType': 'D'}\n",
      "{'seatType': 'E', 'rangeType': 'D', 'upgradeType': 'N', 'tripType': 'O', 'lengthType': '_', 'flightType': '_', 'passengerType': 'N', 'VIPType': '_', 'seasonType': 'P', 'discountType': 'D'}\n",
      "{'seatType': 'B', 'rangeType': 'N', 'upgradeType': '_', 'tripType': 'O', 'lengthType': 'S', 'flightType': 'D', 'passengerType': 'V', 'VIPType': 'D', 'seasonType': 'P', 'discountType': 'N'}\n",
      "{'seatType': 'B', 'rangeType': 'N', 'upgradeType': '_', 'tripType': 'R', 'lengthType': 'L', 'flightType': 'I', 'passengerType': 'N', 'VIPType': '_', 'seasonType': 'N', 'discountType': 'N'}\n",
      "{'seatType': 'B', 'rangeType': 'N', 'upgradeType': '_', 'tripType': 'R', 'lengthType': 'S', 'flightType': 'D', 'passengerType': 'N', 'VIPType': '_', 'seasonType': 'L', 'discountType': 'N'}\n",
      "{'seatType': 'B', 'rangeType': 'N', 'upgradeType': '_', 'tripType': 'O', 'lengthType': 'L', 'flightType': 'I', 'passengerType': 'V', 'VIPType': 'G', 'seasonType': 'L', 'discountType': 'N'}\n",
      "{'seatType': 'B', 'rangeType': 'N', 'upgradeType': '_', 'tripType': 'R', 'lengthType': 'L', 'flightType': 'D', 'passengerType': 'V', 'VIPType': 'G', 'seasonType': 'P', 'discountType': 'N'}\n",
      "{'seatType': 'B', 'rangeType': 'N', 'upgradeType': '_', 'tripType': 'O', 'lengthType': 'S', 'flightType': 'I', 'passengerType': 'N', 'VIPType': '_', 'seasonType': 'P', 'discountType': 'N'}\n",
      "{'seatType': 'B', 'rangeType': 'N', 'upgradeType': '_', 'tripType': 'O', 'lengthType': 'S', 'flightType': 'I', 'passengerType': 'N', 'VIPType': '_', 'seasonType': 'N', 'discountType': 'N'}\n",
      "{'seatType': 'B', 'rangeType': 'D', 'upgradeType': '_', 'tripType': 'R', 'lengthType': '_', 'flightType': '_', 'passengerType': 'N', 'VIPType': '_', 'seasonType': 'N', 'discountType': 'N'}\n",
      "{'seatType': 'B', 'rangeType': 'D', 'upgradeType': '_', 'tripType': 'O', 'lengthType': '_', 'flightType': '_', 'passengerType': 'N', 'VIPType': '_', 'seasonType': 'N', 'discountType': 'N'}\n",
      "{'seatType': 'B', 'rangeType': 'D', 'upgradeType': '_', 'tripType': 'R', 'lengthType': '_', 'flightType': '_', 'passengerType': 'V', 'VIPType': 'G', 'seasonType': 'N', 'discountType': 'N'}\n",
      "{'seatType': 'B', 'rangeType': 'D', 'upgradeType': '_', 'tripType': 'R', 'lengthType': '_', 'flightType': '_', 'passengerType': 'N', 'VIPType': '_', 'seasonType': 'P', 'discountType': 'N'}\n",
      "{'seatType': 'B', 'rangeType': 'D', 'upgradeType': '_', 'tripType': 'R', 'lengthType': '_', 'flightType': '_', 'passengerType': 'N', 'VIPType': '_', 'seasonType': 'L', 'discountType': 'N'}\n",
      "{'seatType': 'F', 'rangeType': 'N', 'upgradeType': '_', 'tripType': 'R', 'lengthType': 'L', 'flightType': 'D', 'passengerType': 'V', 'VIPType': 'D', 'seasonType': 'P', 'discountType': 'N'}\n",
      "{'seatType': 'F', 'rangeType': 'N', 'upgradeType': '_', 'tripType': 'R', 'lengthType': 'L', 'flightType': 'I', 'passengerType': 'V', 'VIPType': 'G', 'seasonType': 'N', 'discountType': 'N'}\n",
      "{'seatType': 'F', 'rangeType': 'N', 'upgradeType': '_', 'tripType': 'R', 'lengthType': 'L', 'flightType': 'I', 'passengerType': 'V', 'VIPType': 'D', 'seasonType': 'L', 'discountType': 'N'}\n",
      "{'seatType': 'F', 'rangeType': 'N', 'upgradeType': '_', 'tripType': 'R', 'lengthType': 'L', 'flightType': 'D', 'passengerType': 'V', 'VIPType': 'G', 'seasonType': 'L', 'discountType': 'N'}\n",
      "{'seatType': 'F', 'rangeType': 'N', 'upgradeType': '_', 'tripType': 'R', 'lengthType': 'L', 'flightType': 'D', 'passengerType': 'V', 'VIPType': 'G', 'seasonType': 'N', 'discountType': 'N'}\n",
      "{'seatType': 'F', 'rangeType': 'N', 'upgradeType': '_', 'tripType': 'R', 'lengthType': 'L', 'flightType': 'I', 'passengerType': 'V', 'VIPType': 'G', 'seasonType': 'P', 'discountType': 'N'}\n",
      "{'seatType': 'F', 'rangeType': 'N', 'upgradeType': '_', 'tripType': 'R', 'lengthType': 'L', 'flightType': 'I', 'passengerType': 'V', 'VIPType': 'D', 'seasonType': 'N', 'discountType': 'N'}\n",
      "{'seatType': 'F', 'rangeType': 'N', 'upgradeType': '_', 'tripType': 'R', 'lengthType': 'L', 'flightType': 'D', 'passengerType': 'N', 'VIPType': '_', 'seasonType': 'N', 'discountType': 'N'}\n",
      "{'seatType': 'F', 'rangeType': 'N', 'upgradeType': '_', 'tripType': 'O', 'lengthType': 'L', 'flightType': 'D', 'passengerType': 'N', 'VIPType': '_', 'seasonType': 'N', 'discountType': 'N'}\n",
      "{'seatType': 'F', 'rangeType': 'N', 'upgradeType': '_', 'tripType': 'R', 'lengthType': 'S', 'flightType': 'D', 'passengerType': 'N', 'VIPType': '_', 'seasonType': 'N', 'discountType': 'N'}\n",
      "{'seatType': 'F', 'rangeType': 'N', 'upgradeType': '_', 'tripType': 'R', 'lengthType': 'L', 'flightType': 'I', 'passengerType': 'N', 'VIPType': '_', 'seasonType': 'N', 'discountType': 'N'}\n",
      "{'seatType': 'F', 'rangeType': 'N', 'upgradeType': '_', 'tripType': 'R', 'lengthType': 'L', 'flightType': 'D', 'passengerType': 'N', 'VIPType': '_', 'seasonType': 'P', 'discountType': 'N'}\n",
      "{'seatType': 'F', 'rangeType': 'N', 'upgradeType': '_', 'tripType': 'R', 'lengthType': 'L', 'flightType': 'D', 'passengerType': 'N', 'VIPType': '_', 'seasonType': 'L', 'discountType': 'N'}\n",
      "{'seatType': 'E', 'rangeType': 'N', 'upgradeType': 'N', 'tripType': 'R', 'lengthType': 'L', 'flightType': 'D', 'passengerType': 'N', 'VIPType': '_', 'seasonType': 'P', 'discountType': 'S'}\n",
      "{'seatType': 'E', 'rangeType': 'N', 'upgradeType': 'N', 'tripType': 'R', 'lengthType': 'L', 'flightType': 'D', 'passengerType': 'N', 'VIPType': '_', 'seasonType': 'P', 'discountType': 'J'}\n",
      "{'seatType': 'E', 'rangeType': 'N', 'upgradeType': 'U', 'tripType': 'R', 'lengthType': 'L', 'flightType': 'D', 'passengerType': 'N', 'VIPType': '_', 'seasonType': 'N', 'discountType': 'S'}\n",
      "{'seatType': 'E', 'rangeType': 'N', 'upgradeType': 'U', 'tripType': 'R', 'lengthType': 'L', 'flightType': 'D', 'passengerType': 'N', 'VIPType': '_', 'seasonType': 'N', 'discountType': 'J'}\n",
      "{'seatType': 'B', 'rangeType': 'D', 'upgradeType': '_', 'tripType': 'O', 'lengthType': '_', 'flightType': '_', 'passengerType': 'V', 'VIPType': 'D', 'seasonType': 'P', 'discountType': 'D'}\n",
      "{'seatType': 'B', 'rangeType': 'N', 'upgradeType': '_', 'tripType': 'R', 'lengthType': 'S', 'flightType': 'D', 'passengerType': 'N', 'VIPType': '_', 'seasonType': 'N', 'discountType': 'D'}\n",
      "{'seatType': 'B', 'rangeType': 'N', 'upgradeType': '_', 'tripType': 'O', 'lengthType': 'L', 'flightType': 'I', 'passengerType': 'N', 'VIPType': '_', 'seasonType': 'L', 'discountType': 'D'}\n",
      "{'seatType': 'B', 'rangeType': 'D', 'upgradeType': '_', 'tripType': 'R', 'lengthType': '_', 'flightType': '_', 'passengerType': 'N', 'VIPType': '_', 'seasonType': 'L', 'discountType': 'D'}\n",
      "{'seatType': 'B', 'rangeType': 'D', 'upgradeType': '_', 'tripType': 'R', 'lengthType': '_', 'flightType': '_', 'passengerType': 'V', 'VIPType': 'G', 'seasonType': 'N', 'discountType': 'D'}\n",
      "{'seatType': 'B', 'rangeType': 'N', 'upgradeType': '_', 'tripType': 'R', 'lengthType': 'L', 'flightType': 'I', 'passengerType': 'V', 'VIPType': 'D', 'seasonType': 'P', 'discountType': 'D'}\n",
      "{'seatType': 'B', 'rangeType': 'D', 'upgradeType': '_', 'tripType': 'O', 'lengthType': '_', 'flightType': '_', 'passengerType': 'N', 'VIPType': '_', 'seasonType': 'P', 'discountType': 'D'}\n",
      "{'seatType': 'B', 'rangeType': 'D', 'upgradeType': '_', 'tripType': 'O', 'lengthType': '_', 'flightType': '_', 'passengerType': 'N', 'VIPType': '_', 'seasonType': 'N', 'discountType': 'D'}\n",
      "{'seatType': 'F', 'rangeType': 'N', 'upgradeType': '_', 'tripType': 'O', 'lengthType': 'S', 'flightType': 'D', 'passengerType': 'V', 'VIPType': 'D', 'seasonType': 'P', 'discountType': 'D'}\n",
      "{'seatType': 'F', 'rangeType': 'N', 'upgradeType': '_', 'tripType': 'R', 'lengthType': 'L', 'flightType': 'I', 'passengerType': 'V', 'VIPType': 'G', 'seasonType': 'N', 'discountType': 'D'}\n",
      "{'seatType': 'F', 'rangeType': 'N', 'upgradeType': '_', 'tripType': 'R', 'lengthType': 'S', 'flightType': 'D', 'passengerType': 'V', 'VIPType': 'G', 'seasonType': 'L', 'discountType': 'D'}\n",
      "{'seatType': 'F', 'rangeType': 'N', 'upgradeType': '_', 'tripType': 'O', 'lengthType': 'L', 'flightType': 'I', 'passengerType': 'V', 'VIPType': 'D', 'seasonType': 'L', 'discountType': 'D'}\n",
      "{'seatType': 'F', 'rangeType': 'N', 'upgradeType': '_', 'tripType': 'O', 'lengthType': 'L', 'flightType': 'D', 'passengerType': 'V', 'VIPType': 'G', 'seasonType': 'N', 'discountType': 'D'}\n",
      "{'seatType': 'F', 'rangeType': 'N', 'upgradeType': '_', 'tripType': 'R', 'lengthType': 'S', 'flightType': 'I', 'passengerType': 'V', 'VIPType': 'D', 'seasonType': 'N', 'discountType': 'D'}\n",
      "{'seatType': 'F', 'rangeType': 'N', 'upgradeType': '_', 'tripType': 'R', 'lengthType': 'L', 'flightType': 'I', 'passengerType': 'V', 'VIPType': 'G', 'seasonType': 'P', 'discountType': 'D'}\n",
      "{'seatType': 'F', 'rangeType': 'N', 'upgradeType': '_', 'tripType': 'R', 'lengthType': 'L', 'flightType': 'D', 'passengerType': 'N', 'VIPType': '_', 'seasonType': 'N', 'discountType': 'D'}\n",
      "{'seatType': 'E', 'rangeType': 'N', 'upgradeType': 'U', 'tripType': 'R', 'lengthType': 'L', 'flightType': 'D', 'passengerType': 'N', 'VIPType': '_', 'seasonType': 'N', 'discountType': 'D'}\n",
      "{'seatType': 'B', 'rangeType': 'N', 'upgradeType': '_', 'tripType': 'R', 'lengthType': 'L', 'flightType': 'D', 'passengerType': 'N', 'VIPType': '_', 'seasonType': 'N', 'discountType': 'J'}\n",
      "{'seatType': 'F', 'rangeType': 'N', 'upgradeType': '_', 'tripType': 'R', 'lengthType': 'L', 'flightType': 'D', 'passengerType': 'N', 'VIPType': '_', 'seasonType': 'N', 'discountType': 'S'}\n",
      "{'seatType': 'E', 'rangeType': 'N', 'upgradeType': 'N', 'tripType': 'R', 'lengthType': 'L', 'flightType': 'D', 'passengerType': 'N', 'VIPType': '_', 'seasonType': 'N', 'discountType': 'D'}\n",
      "{'seatType': 'E', 'rangeType': 'N', 'upgradeType': 'N', 'tripType': 'R', 'lengthType': 'L', 'flightType': 'D', 'passengerType': 'N', 'VIPType': '_', 'seasonType': 'N', 'discountType': 'D'}\n"
     ]
    }
   ],
   "source": [
    "rfts.ruleSetFIFO()\n",
    "fix_value = {\"VIPType\": [\"_\"]}\n",
    "_=rfts.addDefault(fix_value=fix_value, save=True)\n",
    "_=rfts.addDefault(fix_value=fix_value, save=True)\n",
    "rfts.printFifoLen()\n",
    "rfts.printFifo()\n",
    "rfts.printFifoToFile()"
   ]
  },
  {
   "cell_type": "code",
   "execution_count": null,
   "id": "4e5304b1-c6bf-4a65-a110-00d5597c8c78",
   "metadata": {},
   "outputs": [],
   "source": []
  },
  {
   "cell_type": "code",
   "execution_count": null,
   "id": "d9aabbdc-a8d1-4a1d-bcf5-ccb9618f8e86",
   "metadata": {},
   "outputs": [],
   "source": []
  },
  {
   "cell_type": "code",
   "execution_count": null,
   "id": "3b2b0859-ae52-453a-837d-dbb4d012ee92",
   "metadata": {},
   "outputs": [],
   "source": []
  }
 ],
 "metadata": {
  "kernelspec": {
   "display_name": "Python 3 (ipykernel)",
   "language": "python",
   "name": "python3"
  },
  "language_info": {
   "codemirror_mode": {
    "name": "ipython",
    "version": 3
   },
   "file_extension": ".py",
   "mimetype": "text/x-python",
   "name": "python",
   "nbconvert_exporter": "python",
   "pygments_lexer": "ipython3",
   "version": "3.9.16"
  }
 },
 "nbformat": 4,
 "nbformat_minor": 5
}
