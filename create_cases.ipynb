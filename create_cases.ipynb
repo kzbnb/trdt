{
 "cells": [
  {
   "cell_type": "code",
   "execution_count": 3,
   "id": "spatial-health",
   "metadata": {
    "ExecuteTime": {
     "end_time": "2023-03-06T10:25:50.632859Z",
     "start_time": "2023-03-06T10:25:50.250821Z"
    }
   },
   "outputs": [],
   "source": [
    "import numpy as np"
   ]
  },
  {
   "cell_type": "code",
   "execution_count": 28,
   "id": "discrete-basket",
   "metadata": {
    "ExecuteTime": {
     "end_time": "2023-03-06T10:50:08.314144Z",
     "start_time": "2023-03-06T10:50:08.305515Z"
    }
   },
   "outputs": [],
   "source": [
    "def getType(possibility, choice):\n",
    "    # discountType\n",
    "    p = np.array(possibility)\n",
    "    pType = np.random.choice(choice, p = p.ravel())\n",
    "    return pType"
   ]
  },
  {
   "cell_type": "code",
   "execution_count": 29,
   "id": "bacterial-remedy",
   "metadata": {
    "ExecuteTime": {
     "end_time": "2023-03-06T10:50:09.563702Z",
     "start_time": "2023-03-06T10:50:09.546684Z"
    }
   },
   "outputs": [],
   "source": [
    "getType([0.2, 0.7, 0.08, 0.02], ['N','D','J','S'])\n",
    "possibility = [[30/36, 1/36, 5/36], [0.3, 0.7], [0.02, 0.98, 0.0], [0.1, 0.9], [0.14, 0.56, 0.3], [0.35, 0.35, 0.3],\n",
    "[0.1, 0.9], [0.02, 0.08, 0.9],  [0.4, 0.4, 0.2]  ,[0.2, 0.7, 0.08, 0.02]]\n",
    "choiceList = [['E','F','B'], ['D','N'], ['U','N','_'], ['O','R'], ['S','L','_'], ['D','I','_'],\n",
    " ['V','N'],  ['D','G','_'], ['P','N','L'], ['N','D','J','S']        ]"
   ]
  },
  {
   "cell_type": "code",
   "execution_count": 30,
   "id": "strong-palestinian",
   "metadata": {
    "ExecuteTime": {
     "end_time": "2023-03-06T10:50:11.556082Z",
     "start_time": "2023-03-06T10:50:11.515178Z"
    }
   },
   "outputs": [],
   "source": [
    "# np.random.seed(0)\n",
    "def createCase():\n",
    "    price = str(np.random.randint(1,10)*1000)\n",
    "    mileage = str(np.random.randint(1,10)*10000)\n",
    "\n",
    "    typeList = [price,mileage ]\n",
    "\n",
    "    for inx, val in enumerate(possibility):\n",
    "    #     upgrade\n",
    "        if(inx==2):\n",
    "            # Upgrade only apply to economy class.\n",
    "            if(typeList[2]=='E'):\n",
    "                typee = getType([0.02, 0.98], ['U','N'])\n",
    "            else:\n",
    "                typee = '_'\n",
    "    #     VIP\n",
    "        if(inx==7):\n",
    "            # VIP passengers are of type either Diamond or Gold only\n",
    "            if(typeList[8]=='V'):\n",
    "                typee = getType([0.2, 0.8], ['D','G'])\n",
    "            else:\n",
    "                typee = '_'\n",
    "    #     lengthType\n",
    "        elif(inx==4):\n",
    "            # Some non-domestic trips are called short-haul trips and the other non-domestic trips are long-haul trips\n",
    "            if(typeList[3]=='N'):\n",
    "                typee = getType([0.2, 0.8], ['S','L'])\n",
    "            else:\n",
    "                typee = '_'\n",
    "    #     flightType\n",
    "        elif(inx==5):\n",
    "            # Only non-domestic trips can be classified as directed flights and indirect flights\n",
    "            if(typeList[3]=='N'):\n",
    "                typee = getType([0.5, 0.5], ['D','I'])\n",
    "            else:\n",
    "                typee = '_'\n",
    "        else:\n",
    "            typee = getType(val, choiceList[inx])\n",
    "\n",
    "        typeList.append(typee)\n",
    "# For domestic flights, only Business and Economy seats are available\n",
    "    if(typeList[3]=='D'and typeList[2]=='F'):\n",
    "            typee = getType([30/31, 1/31], ['E','B'])\n",
    "            typeList[0]=typee\n",
    "#     print(typeList)\n",
    "    return typeList"
   ]
  },
  {
   "cell_type": "code",
   "execution_count": 31,
   "id": "martial-northern",
   "metadata": {
    "ExecuteTime": {
     "end_time": "2023-03-06T10:50:15.260139Z",
     "start_time": "2023-03-06T10:50:13.575849Z"
    }
   },
   "outputs": [
    {
     "name": "stdout",
     "output_type": "stream",
     "text": [
      "Number of cases: 4\n"
     ]
    }
   ],
   "source": [
    "num = input(\"Number of cases: \")\n",
    "caseList = []\n",
    "for i in range(int(num)):\n",
    "    case = createCase();\n",
    "    result=','.join(case)\n",
    "    caseList.append(result+',\\n')\n",
    "    \n",
    "with open(\"testdata_possibility.txt\",\"w\") as f:\n",
    "    f.writelines(caseList)"
   ]
  },
  {
   "cell_type": "code",
   "execution_count": null,
   "id": "worst-camel",
   "metadata": {},
   "outputs": [],
   "source": []
  }
 ],
 "metadata": {
  "kernelspec": {
   "display_name": "Python 3",
   "language": "python",
   "name": "python3"
  },
  "language_info": {
   "codemirror_mode": {
    "name": "ipython",
    "version": 3
   },
   "file_extension": ".py",
   "mimetype": "text/x-python",
   "name": "python",
   "nbconvert_exporter": "python",
   "pygments_lexer": "ipython3",
   "version": "3.7.9"
  },
  "toc": {
   "base_numbering": 1,
   "nav_menu": {},
   "number_sections": true,
   "sideBar": true,
   "skip_h1_title": false,
   "title_cell": "Table of Contents",
   "title_sidebar": "Contents",
   "toc_cell": false,
   "toc_position": {},
   "toc_section_display": true,
   "toc_window_display": false
  }
 },
 "nbformat": 4,
 "nbformat_minor": 5
}
